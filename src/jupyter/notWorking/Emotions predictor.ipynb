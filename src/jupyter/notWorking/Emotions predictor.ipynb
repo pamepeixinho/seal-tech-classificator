{
 "cells": [
  {
   "cell_type": "markdown",
   "metadata": {},
   "source": [
    "This is a Neural Network to predict commitment of students with online courses."
   ]
  },
  {
   "cell_type": "code",
   "execution_count": 113,
   "metadata": {},
   "outputs": [],
   "source": [
    "import numpy as np\n",
    "import pandas as pd\n",
    "import csv\n",
    "import matplotlib.pyplot as plt"
   ]
  },
  {
   "cell_type": "code",
   "execution_count": 118,
   "metadata": {},
   "outputs": [
    {
     "data": {
      "text/html": [
       "<div>\n",
       "<style scoped>\n",
       "    .dataframe tbody tr th:only-of-type {\n",
       "        vertical-align: middle;\n",
       "    }\n",
       "\n",
       "    .dataframe tbody tr th {\n",
       "        vertical-align: top;\n",
       "    }\n",
       "\n",
       "    .dataframe thead th {\n",
       "        text-align: right;\n",
       "    }\n",
       "</style>\n",
       "<table border=\"1\" class=\"dataframe\">\n",
       "  <thead>\n",
       "    <tr style=\"text-align: right;\">\n",
       "      <th></th>\n",
       "      <th>engagement</th>\n",
       "      <th>anger</th>\n",
       "      <th>contempt</th>\n",
       "      <th>disgust</th>\n",
       "      <th>fear</th>\n",
       "      <th>happiness</th>\n",
       "      <th>neutral</th>\n",
       "      <th>sadness</th>\n",
       "      <th>surprise</th>\n",
       "    </tr>\n",
       "  </thead>\n",
       "  <tbody>\n",
       "    <tr>\n",
       "      <th>count</th>\n",
       "      <td>10000.000000</td>\n",
       "      <td>10000.000000</td>\n",
       "      <td>10000.000000</td>\n",
       "      <td>10000.000000</td>\n",
       "      <td>10000.000000</td>\n",
       "      <td>10000.000000</td>\n",
       "      <td>10000.000000</td>\n",
       "      <td>10000.000000</td>\n",
       "      <td>10000.000000</td>\n",
       "    </tr>\n",
       "    <tr>\n",
       "      <th>mean</th>\n",
       "      <td>0.505380</td>\n",
       "      <td>7.447691</td>\n",
       "      <td>7.527219</td>\n",
       "      <td>7.468637</td>\n",
       "      <td>7.491103</td>\n",
       "      <td>7.474113</td>\n",
       "      <td>7.477786</td>\n",
       "      <td>7.450546</td>\n",
       "      <td>7.548911</td>\n",
       "    </tr>\n",
       "    <tr>\n",
       "      <th>std</th>\n",
       "      <td>0.292393</td>\n",
       "      <td>4.342329</td>\n",
       "      <td>4.344747</td>\n",
       "      <td>4.327625</td>\n",
       "      <td>4.325684</td>\n",
       "      <td>4.327359</td>\n",
       "      <td>4.313112</td>\n",
       "      <td>4.343131</td>\n",
       "      <td>4.311707</td>\n",
       "    </tr>\n",
       "    <tr>\n",
       "      <th>min</th>\n",
       "      <td>0.000000</td>\n",
       "      <td>0.000365</td>\n",
       "      <td>0.001694</td>\n",
       "      <td>0.001612</td>\n",
       "      <td>0.000662</td>\n",
       "      <td>0.002418</td>\n",
       "      <td>0.000616</td>\n",
       "      <td>0.000678</td>\n",
       "      <td>0.000552</td>\n",
       "    </tr>\n",
       "    <tr>\n",
       "      <th>25%</th>\n",
       "      <td>0.300000</td>\n",
       "      <td>3.688172</td>\n",
       "      <td>3.741956</td>\n",
       "      <td>3.720413</td>\n",
       "      <td>3.747869</td>\n",
       "      <td>3.740014</td>\n",
       "      <td>3.770971</td>\n",
       "      <td>3.693497</td>\n",
       "      <td>3.828738</td>\n",
       "    </tr>\n",
       "    <tr>\n",
       "      <th>50%</th>\n",
       "      <td>0.500000</td>\n",
       "      <td>7.433271</td>\n",
       "      <td>7.596299</td>\n",
       "      <td>7.429996</td>\n",
       "      <td>7.552279</td>\n",
       "      <td>7.411314</td>\n",
       "      <td>7.525319</td>\n",
       "      <td>7.423179</td>\n",
       "      <td>7.546941</td>\n",
       "    </tr>\n",
       "    <tr>\n",
       "      <th>75%</th>\n",
       "      <td>0.800000</td>\n",
       "      <td>11.228078</td>\n",
       "      <td>11.292224</td>\n",
       "      <td>11.206452</td>\n",
       "      <td>11.198329</td>\n",
       "      <td>11.250509</td>\n",
       "      <td>11.156155</td>\n",
       "      <td>11.212856</td>\n",
       "      <td>11.273236</td>\n",
       "    </tr>\n",
       "    <tr>\n",
       "      <th>max</th>\n",
       "      <td>1.000000</td>\n",
       "      <td>14.998577</td>\n",
       "      <td>14.997546</td>\n",
       "      <td>14.998057</td>\n",
       "      <td>14.998981</td>\n",
       "      <td>14.999357</td>\n",
       "      <td>14.998968</td>\n",
       "      <td>14.999237</td>\n",
       "      <td>14.999866</td>\n",
       "    </tr>\n",
       "  </tbody>\n",
       "</table>\n",
       "</div>"
      ],
      "text/plain": [
       "         engagement         anger      contempt       disgust          fear  \\\n",
       "count  10000.000000  10000.000000  10000.000000  10000.000000  10000.000000   \n",
       "mean       0.505380      7.447691      7.527219      7.468637      7.491103   \n",
       "std        0.292393      4.342329      4.344747      4.327625      4.325684   \n",
       "min        0.000000      0.000365      0.001694      0.001612      0.000662   \n",
       "25%        0.300000      3.688172      3.741956      3.720413      3.747869   \n",
       "50%        0.500000      7.433271      7.596299      7.429996      7.552279   \n",
       "75%        0.800000     11.228078     11.292224     11.206452     11.198329   \n",
       "max        1.000000     14.998577     14.997546     14.998057     14.998981   \n",
       "\n",
       "          happiness       neutral       sadness      surprise  \n",
       "count  10000.000000  10000.000000  10000.000000  10000.000000  \n",
       "mean       7.474113      7.477786      7.450546      7.548911  \n",
       "std        4.327359      4.313112      4.343131      4.311707  \n",
       "min        0.002418      0.000616      0.000678      0.000552  \n",
       "25%        3.740014      3.770971      3.693497      3.828738  \n",
       "50%        7.411314      7.525319      7.423179      7.546941  \n",
       "75%       11.250509     11.156155     11.212856     11.273236  \n",
       "max       14.999357     14.998968     14.999237     14.999866  "
      ]
     },
     "execution_count": 118,
     "metadata": {},
     "output_type": "execute_result"
    }
   ],
   "source": [
    "data = pd.read_csv(\"out.csv\")\n",
    "data.describe()"
   ]
  },
  {
   "cell_type": "code",
   "execution_count": 193,
   "metadata": {},
   "outputs": [],
   "source": [
    "quant_features = ['engagement', 'anger', 'contempt', 'disgust', 'fear', 'happiness','neutral',\n",
    "                  'sadness','surprise']\n",
    "# Store scalings in a dictionary so we can convert back later\n",
    "scaled_features = {}\n",
    "for each in quant_features:\n",
    "    mean, std = data[each].mean(), data[each].std()\n",
    "    scaled_features[each] = [mean, std]\n",
    "    data.loc[:, each] = (data[each] - mean)/std"
   ]
  },
  {
   "cell_type": "markdown",
   "metadata": {},
   "source": [
    "Aqui, vamos dividir os dados para treinamento, teste e validação da rede neural."
   ]
  },
  {
   "cell_type": "code",
   "execution_count": 194,
   "metadata": {},
   "outputs": [],
   "source": [
    "train, validate, test = np.split(data.sample(frac=1), [int(.6*len(data)), int(.8*len(data))])"
   ]
  },
  {
   "cell_type": "code",
   "execution_count": 195,
   "metadata": {},
   "outputs": [],
   "source": [
    "#dado alvo \n",
    "\n",
    "target_field = ['engagement']\n",
    "features, target = data.drop(target_field, axis=1), data[target_field]\n",
    "test_features, test_target = test.drop(target_field, axis=1), test[target_field]"
   ]
  },
  {
   "cell_type": "code",
   "execution_count": 196,
   "metadata": {},
   "outputs": [],
   "source": [
    "#Dados para treinamento\n",
    "train_features, train_target = features[:8000], target[:0]\n",
    "val_features, val_target = features[-8000:], target[0:]"
   ]
  },
  {
   "cell_type": "code",
   "execution_count": 204,
   "metadata": {},
   "outputs": [
    {
     "data": {
      "text/plain": [
       "{'engagement': [6.631732200427602e-17, 1.0],\n",
       " 'anger': [-1.1842378929335004e-17, 1.0],\n",
       " 'contempt': [3.0790185216271007e-17, 1.0],\n",
       " 'disgust': [2.2500519965736505e-17, 1.0],\n",
       " 'fear': [-5.3290705182007515e-18, 1.0],\n",
       " 'happiness': [-2.3684757858670005e-18, 1.0],\n",
       " 'neutral': [3.789561257387201e-17, 1.0],\n",
       " 'sadness': [2.3092638912203255e-17, 1.0],\n",
       " 'surprise': [-4.500103993147301e-17, 1.0]}"
      ]
     },
     "execution_count": 204,
     "metadata": {},
     "output_type": "execute_result"
    }
   ],
   "source": [
    "scaled_features = {}\n",
    "for each in quant_features:\n",
    "    mean, std = data_train[each].mean(), data_train[each].std()\n",
    "    scaled_features[each] = [mean, std]\n",
    "    data_train.loc[:, each] = (data_train[each] - mean)/std\n",
    "scaled_features"
   ]
  },
  {
   "cell_type": "code",
   "execution_count": null,
   "metadata": {},
   "outputs": [],
   "source": []
  },
  {
   "cell_type": "code",
   "execution_count": 235,
   "metadata": {},
   "outputs": [],
   "source": [
    "class RedeNeural(object):\n",
    "    def __init__(self, input_nodes, hidden_nodes, output_nodes, learning_rate):\n",
    "        #definir o numero de hidden nodes\n",
    "        self.input_nodes = input_nodes\n",
    "        self.hidden_nodes = hidden_nodes\n",
    "        self.output_nodes = output_nodes\n",
    "        #pesos estatísticos\n",
    "        self.weights_input_to_hidden = np.random.normal(0.0, self.hidden_nodes**-0.5, \n",
    "                                       (self.hidden_nodes, self.input_nodes))\n",
    "\n",
    "        self.weights_hidden_to_output = np.random.normal(0.0, self.output_nodes**-0.5, \n",
    "                                       (self.output_nodes, self.hidden_nodes))\n",
    "        self.lr = learning_rate\n",
    "        \n",
    "        #A distrubuição aqui é sigmoide\n",
    "        self.activation_function = lambda x: (1 / (1 + np.exp(-x)))\n",
    "        self.activation_function_prime = lambda x: (x * ( 1 - x))\n",
    "        \n",
    "        self.output_activation_function = lambda x: (x)\n",
    "        self.output_activation_function_prime = lambda x: (1)\n",
    "        \n",
    "    def train(self, inputs, targets_list):\n",
    "        inputs = np.array(inputs, ndmin=2).T\n",
    "        targets = np.array(targets, ndmin=2).T\n",
    "        #convertendo em vetores 2D\n",
    "        \n",
    "        \n",
    "        hidden_inputs = np.dot(self.weights_input_to_hidden, inputs)\n",
    "        hidden_outputs = self.activation_function(hidden_inputs)\n",
    "        final_inputs = np.dot(self.weights_hidden_to_output, hidden_outputs)\n",
    "        final_outputs = self.output_activation_function(final_inputs)\n",
    "        \n",
    "\n",
    "        error = targets - final_outputs\n",
    "        \n",
    "        output_errors = error * self.output_activation_function_prime(final_inputs)\n",
    "        #erro propagado\n",
    "        hidden_errors = np.dot(output_errors.T, self.weights_hidden_to_output).T\n",
    "        hidden_grad = self.activation_function_prime(hidden_outputs)\n",
    "        \n",
    " \n",
    "        self.weights_hidden_to_output += self.lr * np.dot(output_errors, hidden_outputs.T)\n",
    "        self.weights_input_to_hidden += self.lr * np.dot((hidden_errors * hidden_grad), inputs.T)\n",
    " \n",
    "        \n",
    "    def run(self, inputs):\n",
    "        inputs = np.array(inputs, ndmin=2).T\n",
    "        \n",
    "       \n",
    "        hidden_inputs = np.dot(self.weights_input_to_hidden, inputs)\n",
    "        hidden_outputs = self.activation_function(hidden_inputs,inputs)\n",
    "        \n",
    "        final_inputs = np.dot(self.weights_hidden_to_output, hidden_outputs) \n",
    "        final_outputs = self.output_activation_function(final_inputs,outputs)\n",
    "        \n",
    "        return final_outputs\n",
    "    "
   ]
  },
  {
   "cell_type": "code",
   "execution_count": 206,
   "metadata": {},
   "outputs": [],
   "source": [
    "def EQMedio(y, Y):\n",
    "    return np.mean((y-Y)**2)"
   ]
  },
  {
   "cell_type": "code",
   "execution_count": 229,
   "metadata": {},
   "outputs": [],
   "source": [
    "all_data = pd.concat((train,test))\n",
    "for column in all_data.select_dtypes(include=[np.object]).columns:\n",
    "    print(column, all_data[column].unique())"
   ]
  },
  {
   "cell_type": "code",
   "execution_count": 230,
   "metadata": {},
   "outputs": [],
   "source": [
    "all_data = pd.concat((train,test))\n",
    "for column in all_data.select_dtypes(include=[np.object]).columns:\n",
    "    print(column, all_data[column].unique())"
   ]
  },
  {
   "cell_type": "code",
   "execution_count": 231,
   "metadata": {},
   "outputs": [],
   "source": [
    "x = np.arange(4)"
   ]
  },
  {
   "cell_type": "code",
   "execution_count": 252,
   "metadata": {
    "scrolled": false
   },
   "outputs": [
    {
     "name": "stderr",
     "output_type": "stream",
     "text": [
      "c:\\users\\ivan\\appdata\\local\\programs\\python\\python36-32\\lib\\site-packages\\ipykernel_launcher.py:15: DeprecationWarning: \n",
      ".ix is deprecated. Please use\n",
      ".loc for label based indexing or\n",
      ".iloc for positional indexing\n",
      "\n",
      "See the documentation here:\n",
      "http://pandas.pydata.org/pandas-docs/stable/indexing.html#ix-indexer-is-deprecated\n",
      "  from ipykernel import kernelapp as app\n"
     ]
    }
   ],
   "source": [
    "import sys\n",
    "\n",
    "epochs = 100\n",
    "learning_rate = 0.05\n",
    "hidden_nodes = 20\n",
    "output_nodes = 1\n",
    "\n",
    "N_i = train.shape[1]\n",
    "network = RedeNeural(N_i, hidden_nodes, output_nodes, learning_rate)\n",
    "\n",
    "losses = {'train':[], 'validation':[]}\n",
    "for e in range(epochs):\n",
    "    batch = np.random.choice(train_features.index, size=128)\n",
    "    \n",
    "    foo = train_targets.ix[batch]['engagement'].values\n",
    "    print(foo)\n",
    "    \n",
    "    for record, target in zip(train_features.index[batch].values, foo):network.train(record, target)\n",
    "    \n",
    "    foo2 = train_targets.ix[batch]['engagement'].values\n",
    "    train_loss = EQMedio(network.run(train_features), train_targets['engagement'].values)\n",
    "    val_loss = EQMedio(network.run(val_features), val_targets['engagement'].values)\n",
    "    sys.stdout.write(\"\\rProgress: \" + str(100 * e/float(epochs))[:4] \\\n",
    "                     + \"% ... Training loss: \" + str(train_loss)[:5] \\\n",
    "                     + \" ... Validation loss: \" + str(val_loss)[:5])\n",
    "    \n",
    "    losses['train'].append(train_loss)\n",
    "    losses['validation'].append(val_loss)\n"
   ]
  },
  {
   "cell_type": "code",
   "execution_count": 165,
   "metadata": {},
   "outputs": [
    {
     "name": "stderr",
     "output_type": "stream",
     "text": [
      "c:\\users\\ivan\\appdata\\local\\programs\\python\\python36-32\\lib\\site-packages\\ipykernel_launcher.py:1: FutureWarning: Method .as_matrix will be removed in a future version. Use .values instead.\n",
      "  \"\"\"Entry point for launching an IPython kernel.\n",
      "c:\\users\\ivan\\appdata\\local\\programs\\python\\python36-32\\lib\\site-packages\\ipykernel_launcher.py:2: FutureWarning: Method .as_matrix will be removed in a future version. Use .values instead.\n",
      "  \n"
     ]
    },
    {
     "data": {
      "text/plain": [
       "Index(['engagement', 'anger', 'contempt', 'disgust', 'fear', 'happiness',\n",
       "       'neutral', 'sadness', 'surprise'],\n",
       "      dtype='object')"
      ]
     },
     "execution_count": 165,
     "metadata": {},
     "output_type": "execute_result"
    }
   ],
   "source": [
    "y = data.as_matrix(columns=data.columns[0:1])\n",
    "x = data.as_matrix(columns=data.columns[1:])\n",
    "data.columns[0:]"
   ]
  },
  {
   "cell_type": "code",
   "execution_count": null,
   "metadata": {},
   "outputs": [],
   "source": []
  },
  {
   "cell_type": "code",
   "execution_count": null,
   "metadata": {},
   "outputs": [],
   "source": []
  },
  {
   "cell_type": "code",
   "execution_count": null,
   "metadata": {},
   "outputs": [],
   "source": []
  },
  {
   "cell_type": "code",
   "execution_count": null,
   "metadata": {},
   "outputs": [],
   "source": []
  }
 ],
 "metadata": {
  "kernelspec": {
   "display_name": "Python 3",
   "language": "python",
   "name": "python3"
  },
  "language_info": {
   "codemirror_mode": {
    "name": "ipython",
    "version": 3
   },
   "file_extension": ".py",
   "mimetype": "text/x-python",
   "name": "python",
   "nbconvert_exporter": "python",
   "pygments_lexer": "ipython3",
   "version": "3.6.5"
  }
 },
 "nbformat": 4,
 "nbformat_minor": 2
}
