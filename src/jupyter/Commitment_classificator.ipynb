{
 "cells": [
  {
   "cell_type": "code",
   "execution_count": 1,
   "metadata": {},
   "outputs": [],
   "source": [
    "import numpy as np\n",
    "import pandas as pd\n",
    "import matplotlib.pyplot as plt\n",
    "import csv"
   ]
  },
  {
   "cell_type": "code",
   "execution_count": 2,
   "metadata": {},
   "outputs": [
    {
     "data": {
      "text/html": [
       "<div>\n",
       "<style scoped>\n",
       "    .dataframe tbody tr th:only-of-type {\n",
       "        vertical-align: middle;\n",
       "    }\n",
       "\n",
       "    .dataframe tbody tr th {\n",
       "        vertical-align: top;\n",
       "    }\n",
       "\n",
       "    .dataframe thead th {\n",
       "        text-align: right;\n",
       "    }\n",
       "</style>\n",
       "<table border=\"1\" class=\"dataframe\">\n",
       "  <thead>\n",
       "    <tr style=\"text-align: right;\">\n",
       "      <th></th>\n",
       "      <th>average_anger</th>\n",
       "      <th>average_contempt</th>\n",
       "      <th>average_fear</th>\n",
       "      <th>average_disgust</th>\n",
       "      <th>average_happiness</th>\n",
       "      <th>average_neutral</th>\n",
       "      <th>average_sadness</th>\n",
       "      <th>average_surprise</th>\n",
       "      <th>commitment_score</th>\n",
       "    </tr>\n",
       "  </thead>\n",
       "  <tbody>\n",
       "    <tr>\n",
       "      <th>0</th>\n",
       "      <td>0.000423</td>\n",
       "      <td>0.004894</td>\n",
       "      <td>0.0</td>\n",
       "      <td>0.000089</td>\n",
       "      <td>0.000830</td>\n",
       "      <td>0.988057</td>\n",
       "      <td>0.002400</td>\n",
       "      <td>0.003236</td>\n",
       "      <td>0.183673</td>\n",
       "    </tr>\n",
       "    <tr>\n",
       "      <th>1</th>\n",
       "      <td>0.008045</td>\n",
       "      <td>0.015705</td>\n",
       "      <td>0.0</td>\n",
       "      <td>0.002115</td>\n",
       "      <td>0.046803</td>\n",
       "      <td>0.764564</td>\n",
       "      <td>0.040862</td>\n",
       "      <td>0.004960</td>\n",
       "      <td>0.269388</td>\n",
       "    </tr>\n",
       "    <tr>\n",
       "      <th>2</th>\n",
       "      <td>0.003538</td>\n",
       "      <td>0.013587</td>\n",
       "      <td>0.0</td>\n",
       "      <td>0.000339</td>\n",
       "      <td>0.009933</td>\n",
       "      <td>0.955199</td>\n",
       "      <td>0.014001</td>\n",
       "      <td>0.003112</td>\n",
       "      <td>0.240816</td>\n",
       "    </tr>\n",
       "    <tr>\n",
       "      <th>3</th>\n",
       "      <td>0.002684</td>\n",
       "      <td>0.060187</td>\n",
       "      <td>0.0</td>\n",
       "      <td>0.003903</td>\n",
       "      <td>0.020389</td>\n",
       "      <td>0.271250</td>\n",
       "      <td>0.173879</td>\n",
       "      <td>0.006183</td>\n",
       "      <td>0.285714</td>\n",
       "    </tr>\n",
       "    <tr>\n",
       "      <th>4</th>\n",
       "      <td>0.002226</td>\n",
       "      <td>0.000588</td>\n",
       "      <td>0.0</td>\n",
       "      <td>0.000356</td>\n",
       "      <td>0.000233</td>\n",
       "      <td>0.922547</td>\n",
       "      <td>0.004795</td>\n",
       "      <td>0.005082</td>\n",
       "      <td>0.204082</td>\n",
       "    </tr>\n",
       "  </tbody>\n",
       "</table>\n",
       "</div>"
      ],
      "text/plain": [
       "   average_anger  average_contempt  average_fear  average_disgust  \\\n",
       "0       0.000423          0.004894           0.0         0.000089   \n",
       "1       0.008045          0.015705           0.0         0.002115   \n",
       "2       0.003538          0.013587           0.0         0.000339   \n",
       "3       0.002684          0.060187           0.0         0.003903   \n",
       "4       0.002226          0.000588           0.0         0.000356   \n",
       "\n",
       "   average_happiness  average_neutral  average_sadness  average_surprise  \\\n",
       "0           0.000830         0.988057         0.002400          0.003236   \n",
       "1           0.046803         0.764564         0.040862          0.004960   \n",
       "2           0.009933         0.955199         0.014001          0.003112   \n",
       "3           0.020389         0.271250         0.173879          0.006183   \n",
       "4           0.000233         0.922547         0.004795          0.005082   \n",
       "\n",
       "   commitment_score  \n",
       "0          0.183673  \n",
       "1          0.269388  \n",
       "2          0.240816  \n",
       "3          0.285714  \n",
       "4          0.204082  "
      ]
     },
     "execution_count": 2,
     "metadata": {},
     "output_type": "execute_result"
    }
   ],
   "source": [
    "data = pd.read_csv(r'\\Users\\Ivan\\Documents\\Daniela\\FocaAi\\dataset.csv')\n",
    "data.head()"
   ]
  },
  {
   "cell_type": "code",
   "execution_count": 9,
   "metadata": {},
   "outputs": [],
   "source": [
    "#train, validate, test = np.split(data.sample(frac=1), [int(.6*len(data)), int(.8*len(data))])\n",
    "#test_data = test\n",
    "# Separate the data into features and targets\n",
    "\n",
    "target_field = ['commitment_score']\n",
    "features, target = data.drop(target_field, axis=1), data[target_field]\n",
    "test_features = test, test_target = test_data.drop(target_field, axis=1), test_data[target_field]"
   ]
  },
  {
   "cell_type": "code",
   "execution_count": 17,
   "metadata": {},
   "outputs": [],
   "source": [
    "train_features, train_target = features[:3], target[:3]\n",
    "val_features, val_target = features[3:], target[3:]\n"
   ]
  },
  {
   "cell_type": "code",
   "execution_count": 18,
   "metadata": {},
   "outputs": [
    {
     "data": {
      "text/html": [
       "<div>\n",
       "<style scoped>\n",
       "    .dataframe tbody tr th:only-of-type {\n",
       "        vertical-align: middle;\n",
       "    }\n",
       "\n",
       "    .dataframe tbody tr th {\n",
       "        vertical-align: top;\n",
       "    }\n",
       "\n",
       "    .dataframe thead th {\n",
       "        text-align: right;\n",
       "    }\n",
       "</style>\n",
       "<table border=\"1\" class=\"dataframe\">\n",
       "  <thead>\n",
       "    <tr style=\"text-align: right;\">\n",
       "      <th></th>\n",
       "      <th>commitment_score</th>\n",
       "    </tr>\n",
       "  </thead>\n",
       "  <tbody>\n",
       "    <tr>\n",
       "      <th>3</th>\n",
       "      <td>0.285714</td>\n",
       "    </tr>\n",
       "    <tr>\n",
       "      <th>4</th>\n",
       "      <td>0.204082</td>\n",
       "    </tr>\n",
       "    <tr>\n",
       "      <th>5</th>\n",
       "      <td>0.216327</td>\n",
       "    </tr>\n",
       "    <tr>\n",
       "      <th>6</th>\n",
       "      <td>0.261224</td>\n",
       "    </tr>\n",
       "  </tbody>\n",
       "</table>\n",
       "</div>"
      ],
      "text/plain": [
       "   commitment_score\n",
       "3          0.285714\n",
       "4          0.204082\n",
       "5          0.216327\n",
       "6          0.261224"
      ]
     },
     "execution_count": 18,
     "metadata": {},
     "output_type": "execute_result"
    }
   ],
   "source": [
    "val_target"
   ]
  },
  {
   "cell_type": "code",
   "execution_count": 30,
   "metadata": {},
   "outputs": [],
   "source": [
    "class RedeNeural(object):\n",
    "    def __init__(self, input_nodes, hidden_nodes, output_nodes, learning_rate):\n",
    "        \n",
    "        self.input_nodes = input_nodes\n",
    "        self.hidden_nodes = hidden_nodes\n",
    "        self.output_nodes = output_nodes\n",
    "        \n",
    "        #statistical weigts\n",
    "        self.weights_input_to_hidden = np.random.normal(0.0, self.hidden_nodes**-0.5, \n",
    "                                       (self.hidden_nodes, self.input_nodes))\n",
    "\n",
    "        self.weights_hidden_to_output = np.random.normal(0.0, self.output_nodes**-0.5, \n",
    "                                       (self.output_nodes, self.hidden_nodes))\n",
    "        self.lr = learning_rate\n",
    "        \n",
    "        #activation is given by the sigmoid function\n",
    "        self.activation_function = lambda x: (1 / (1 + np.exp(-x)))\n",
    "        self.activation_function_prime = lambda x: (x * ( 1 - x))\n",
    "        \n",
    "        self.output_activation_function = lambda x: (x)\n",
    "        self.output_activation_function_prime = lambda x: (1)\n",
    "        \n",
    "        \n",
    "    def train(self, inputs_list, target_list):\n",
    "        inputs = np.array(inputs_list, ndmin=2).T\n",
    "        target = np.array(target_list, ndmin=2).T\n",
    "        \n",
    "        #hidden layers\n",
    "        hidden_inputs = np.dot(self.weights_input_to_hidden, inputs)\n",
    "        hidden_outputs = self.activation_function(hidden_inputs)\n",
    "        final_inputs = np.dot(self.weights_hidden_to_output, hidden_outputs)\n",
    "        final_outputs = self.output_activation_function(final_inputs)\n",
    "        \n",
    "        #the cute error function\n",
    "        error = target - final_outputs\n",
    "        \n",
    "        output_errors = error * self.output_activation_function_prime(final_inputs)\n",
    "        \n",
    "        #propagated error\n",
    "        hidden_errors = np.dot(output_errors.T, self.weights_hidden_to_output).T\n",
    "        hidden_grad = self.activation_function_prime(hidden_outputs)\n",
    "        \n",
    " \n",
    "        self.weights_hidden_to_output += self.lr * np.dot(output_errors, hidden_outputs.T)\n",
    "        self.weights_input_to_hidden += self.lr * np.dot((hidden_errors * hidden_grad), inputs.T)\n",
    " \n",
    "\n",
    "     \n",
    "    def run(self, inputs_list):\n",
    "        inputs = np.array(inputs_list, ndmin=2).T\n",
    "        \n",
    "       \n",
    "        hidden_inputs = np.dot(self.weights_input_to_hidden, inputs)\n",
    "        hidden_outputs = self.activation_function(hidden_inputs)\n",
    "        \n",
    "        final_inputs = np.dot(self.weights_hidden_to_output, hidden_outputs) \n",
    "        final_outputs = self.output_activation_function(final_inputs)\n",
    "        \n",
    "        return final_outputs"
   ]
  },
  {
   "cell_type": "code",
   "execution_count": 31,
   "metadata": {},
   "outputs": [],
   "source": [
    "def MSE(y, Y):\n",
    "    return np.mean((y-Y)**2)"
   ]
  },
  {
   "cell_type": "code",
   "execution_count": 34,
   "metadata": {},
   "outputs": [
    {
     "name": "stdout",
     "output_type": "stream",
     "text": [
      "Progress: 99.9% ... Training loss: 0.000 ... Validation loss: 0.005"
     ]
    }
   ],
   "source": [
    "import sys\n",
    "\n",
    "#Bayes\n",
    "epocas = 1000\n",
    "learning_rate = 0.05\n",
    "hidden_nodes = 20\n",
    "output_nodes = 1\n",
    "\n",
    "N_i = train_features.shape[1]\n",
    "rede = RedeNeural(N_i, hidden_nodes, output_nodes, learning_rate)\n",
    "\n",
    "losses = {'train':[], 'validation':[]}\n",
    "for e in range(epocas):\n",
    "    #ir até o dataset\n",
    "    batch = np.random.choice(train_features.index, size=128)\n",
    "    for record, target in zip(train_features.iloc[batch].values, \n",
    "                              train_target.iloc[batch]['commitment_score']): rede.train(record, target)\n",
    "    \n",
    "    # Printing out the training progress\n",
    "    train_loss = MSE(rede.run(train_features), train_target['commitment_score'].values)\n",
    "    val_loss = MSE(rede.run(val_features), val_target['commitment_score'].values)\n",
    "    sys.stdout.write(\"\\rProgress: \" + str(100 * e/float(epocas))[:4] \\\n",
    "                     + \"% ... Training loss: \" + str(train_loss)[:5] \\\n",
    "                     + \" ... Validation loss: \" + str(val_loss)[:5])\n",
    "    \n",
    "    losses['train'].append(train_loss)\n",
    "    losses['validation'].append(val_loss)"
   ]
  },
  {
   "cell_type": "code",
   "execution_count": 39,
   "metadata": {},
   "outputs": [
    {
     "data": {
      "text/plain": [
       "(-4.613511599079801e-05, 0.1)"
      ]
     },
     "execution_count": 39,
     "metadata": {},
     "output_type": "execute_result"
    },
    {
     "data": {
      "image/png": "[encoded data removed]",
      "text/plain": [
       "<Figure size 432x288 with 1 Axes>"
      ]
     },
     "metadata": {},
     "output_type": "display_data"
    }
   ],
   "source": [
    "import numpy as np\n",
    "import matplotlib.pyplot as plt\n",
    "\n",
    "plt.plot(losses['train'], label='Training loss')\n",
    "plt.plot(losses['validation'], label='Validation loss')\n",
    "plt.legend()\n",
    "plt.ylim(ymax=.1)"
   ]
  },
  {
   "cell_type": "code",
   "execution_count": null,
   "metadata": {},
   "outputs": [],
   "source": [
    "\n"
   ]
  },
  {
   "cell_type": "code",
   "execution_count": null,
   "metadata": {},
   "outputs": [],
   "source": []
  }
 ],
 "metadata": {
  "kernelspec": {
   "display_name": "Python 3",
   "language": "python",
   "name": "python3"
  },
  "language_info": {
   "codemirror_mode": {
    "name": "ipython",
    "version": 3
   },
   "file_extension": ".py",
   "mimetype": "text/x-python",
   "name": "python",
   "nbconvert_exporter": "python",
   "pygments_lexer": "ipython3",
   "version": "3.6.5"
  }
 },
 "nbformat": 4,
 "nbformat_minor": 2
}
