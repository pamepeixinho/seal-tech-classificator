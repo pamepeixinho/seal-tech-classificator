{
 "cells": [
  {
   "cell_type": "markdown",
   "metadata": {},
   "source": [
    "This is a Neural Network to predict commitment of students with online courses."
   ]
  },
  {
   "cell_type": "code",
   "execution_count": 67,
   "metadata": {},
   "outputs": [],
   "source": [
    "import numpy as np\n",
    "import pandas as pd\n",
    "import csv\n",
    "import matplotlib as plt"
   ]
  },
  {
   "cell_type": "code",
   "execution_count": 68,
   "metadata": {},
   "outputs": [
    {
     "data": {
      "text/html": [
       "<div>\n",
       "<style scoped>\n",
       "    .dataframe tbody tr th:only-of-type {\n",
       "        vertical-align: middle;\n",
       "    }\n",
       "\n",
       "    .dataframe tbody tr th {\n",
       "        vertical-align: top;\n",
       "    }\n",
       "\n",
       "    .dataframe thead th {\n",
       "        text-align: right;\n",
       "    }\n",
       "</style>\n",
       "<table border=\"1\" class=\"dataframe\">\n",
       "  <thead>\n",
       "    <tr style=\"text-align: right;\">\n",
       "      <th></th>\n",
       "      <th>engagement</th>\n",
       "      <th>anger</th>\n",
       "      <th>contempt</th>\n",
       "      <th>disgust</th>\n",
       "      <th>fear</th>\n",
       "      <th>happiness</th>\n",
       "      <th>neutral</th>\n",
       "      <th>sadness</th>\n",
       "      <th>surprise</th>\n",
       "    </tr>\n",
       "  </thead>\n",
       "  <tbody>\n",
       "    <tr>\n",
       "      <th>count</th>\n",
       "      <td>10000.000000</td>\n",
       "      <td>10000.000000</td>\n",
       "      <td>10000.000000</td>\n",
       "      <td>10000.000000</td>\n",
       "      <td>10000.000000</td>\n",
       "      <td>10000.000000</td>\n",
       "      <td>10000.000000</td>\n",
       "      <td>10000.000000</td>\n",
       "      <td>10000.000000</td>\n",
       "    </tr>\n",
       "    <tr>\n",
       "      <th>mean</th>\n",
       "      <td>0.505380</td>\n",
       "      <td>7.447691</td>\n",
       "      <td>7.527219</td>\n",
       "      <td>7.468637</td>\n",
       "      <td>7.491103</td>\n",
       "      <td>7.474113</td>\n",
       "      <td>7.477786</td>\n",
       "      <td>7.450546</td>\n",
       "      <td>7.548911</td>\n",
       "    </tr>\n",
       "    <tr>\n",
       "      <th>std</th>\n",
       "      <td>0.292393</td>\n",
       "      <td>4.342329</td>\n",
       "      <td>4.344747</td>\n",
       "      <td>4.327625</td>\n",
       "      <td>4.325684</td>\n",
       "      <td>4.327359</td>\n",
       "      <td>4.313112</td>\n",
       "      <td>4.343131</td>\n",
       "      <td>4.311707</td>\n",
       "    </tr>\n",
       "    <tr>\n",
       "      <th>min</th>\n",
       "      <td>0.000000</td>\n",
       "      <td>0.000365</td>\n",
       "      <td>0.001694</td>\n",
       "      <td>0.001612</td>\n",
       "      <td>0.000662</td>\n",
       "      <td>0.002418</td>\n",
       "      <td>0.000616</td>\n",
       "      <td>0.000678</td>\n",
       "      <td>0.000552</td>\n",
       "    </tr>\n",
       "    <tr>\n",
       "      <th>25%</th>\n",
       "      <td>0.300000</td>\n",
       "      <td>3.688172</td>\n",
       "      <td>3.741956</td>\n",
       "      <td>3.720413</td>\n",
       "      <td>3.747869</td>\n",
       "      <td>3.740014</td>\n",
       "      <td>3.770971</td>\n",
       "      <td>3.693497</td>\n",
       "      <td>3.828738</td>\n",
       "    </tr>\n",
       "    <tr>\n",
       "      <th>50%</th>\n",
       "      <td>0.500000</td>\n",
       "      <td>7.433271</td>\n",
       "      <td>7.596299</td>\n",
       "      <td>7.429996</td>\n",
       "      <td>7.552279</td>\n",
       "      <td>7.411314</td>\n",
       "      <td>7.525319</td>\n",
       "      <td>7.423179</td>\n",
       "      <td>7.546941</td>\n",
       "    </tr>\n",
       "    <tr>\n",
       "      <th>75%</th>\n",
       "      <td>0.800000</td>\n",
       "      <td>11.228078</td>\n",
       "      <td>11.292224</td>\n",
       "      <td>11.206452</td>\n",
       "      <td>11.198329</td>\n",
       "      <td>11.250509</td>\n",
       "      <td>11.156155</td>\n",
       "      <td>11.212856</td>\n",
       "      <td>11.273236</td>\n",
       "    </tr>\n",
       "    <tr>\n",
       "      <th>max</th>\n",
       "      <td>1.000000</td>\n",
       "      <td>14.998577</td>\n",
       "      <td>14.997546</td>\n",
       "      <td>14.998057</td>\n",
       "      <td>14.998981</td>\n",
       "      <td>14.999357</td>\n",
       "      <td>14.998968</td>\n",
       "      <td>14.999237</td>\n",
       "      <td>14.999866</td>\n",
       "    </tr>\n",
       "  </tbody>\n",
       "</table>\n",
       "</div>"
      ],
      "text/plain": [
       "         engagement         anger      contempt       disgust          fear  \\\n",
       "count  10000.000000  10000.000000  10000.000000  10000.000000  10000.000000   \n",
       "mean       0.505380      7.447691      7.527219      7.468637      7.491103   \n",
       "std        0.292393      4.342329      4.344747      4.327625      4.325684   \n",
       "min        0.000000      0.000365      0.001694      0.001612      0.000662   \n",
       "25%        0.300000      3.688172      3.741956      3.720413      3.747869   \n",
       "50%        0.500000      7.433271      7.596299      7.429996      7.552279   \n",
       "75%        0.800000     11.228078     11.292224     11.206452     11.198329   \n",
       "max        1.000000     14.998577     14.997546     14.998057     14.998981   \n",
       "\n",
       "          happiness       neutral       sadness      surprise  \n",
       "count  10000.000000  10000.000000  10000.000000  10000.000000  \n",
       "mean       7.474113      7.477786      7.450546      7.548911  \n",
       "std        4.327359      4.313112      4.343131      4.311707  \n",
       "min        0.002418      0.000616      0.000678      0.000552  \n",
       "25%        3.740014      3.770971      3.693497      3.828738  \n",
       "50%        7.411314      7.525319      7.423179      7.546941  \n",
       "75%       11.250509     11.156155     11.212856     11.273236  \n",
       "max       14.999357     14.998968     14.999237     14.999866  "
      ]
     },
     "execution_count": 68,
     "metadata": {},
     "output_type": "execute_result"
    }
   ],
   "source": [
    "data = pd.read_csv(\"out.csv\")\n",
    "data.describe()"
   ]
  },
  {
   "cell_type": "markdown",
   "metadata": {},
   "source": [
    "Aqui, vamos dividir os dados para treinamento, teste e validação da rede neural."
   ]
  },
  {
   "cell_type": "code",
   "execution_count": 85,
   "metadata": {},
   "outputs": [],
   "source": [
    "train, validate, test = np.split(data.sample(frac=1), [int(.6*len(data)), int(.8*len(data))])"
   ]
  },
  {
   "cell_type": "code",
   "execution_count": 93,
   "metadata": {},
   "outputs": [],
   "source": [
    "#dados alvo \n",
    "#target_field = data.columns[0:]\n",
    "target_field = ['engagement']\n",
    "features, target = data.drop(target_field, axis=1), data[target_field]\n",
    "test_features, test_target = test.drop(target_field, axis=1), test[target_field]"
   ]
  },
  {
   "cell_type": "code",
   "execution_count": 99,
   "metadata": {},
   "outputs": [],
   "source": [
    "#Dados para treinamento\n",
    "train_features, train_target = train[:], target[:]\n",
    "val_features, val_target = features[:], target[:]"
   ]
  },
  {
   "cell_type": "code",
   "execution_count": null,
   "metadata": {},
   "outputs": [],
   "source": []
  },
  {
   "cell_type": "code",
   "execution_count": 96,
   "metadata": {},
   "outputs": [
    {
     "data": {
      "text/plain": [
       "{'engagement': [0.5064333333333333, 0.2932284820965971],\n",
       " 'anger': [7.416321554979691, 4.340221408241407],\n",
       " 'contempt': [7.518373773845748, 4.357006612333243],\n",
       " 'disgust': [7.485665370052796, 4.304017158161058],\n",
       " 'fear': [7.4578914561883645, 4.294313512043478],\n",
       " 'happiness': [7.4538733838547175, 4.349642197843544],\n",
       " 'neutral': [7.480802419928315, 4.306559367335475],\n",
       " 'sadness': [7.4759898366139375, 4.326874173845003],\n",
       " 'surprise': [7.472926299015346, 4.317437809683168]}"
      ]
     },
     "execution_count": 96,
     "metadata": {},
     "output_type": "execute_result"
    }
   ],
   "source": [
    "scaled_features = {}\n",
    "for each in quant_features:\n",
    "    mean, std = data_train[each].mean(), data_train[each].std()\n",
    "    scaled_features[each] = [mean, std]\n",
    "    data_train.loc[:, each] = (data_train[each] - mean)/std\n",
    "scaled_features"
   ]
  },
  {
   "cell_type": "code",
   "execution_count": null,
   "metadata": {},
   "outputs": [],
   "source": []
  },
  {
   "cell_type": "code",
   "execution_count": 100,
   "metadata": {},
   "outputs": [],
   "source": [
    "class RedeNeural(object):\n",
    "    def __init__(self, input_nodes, hidden_nodes, output_nodes, learning_rate):\n",
    "        #definir o numero de hidden nodes\n",
    "        self.input_nodes = input_nodes\n",
    "        self.hidden_nodes = hidden_nodes\n",
    "        self.output_nodes = output_nodes\n",
    "        #pesos estatísticos\n",
    "        self.weights_input_to_hidden = np.random.normal(0.0, self.hidden_nodes**-0.5, \n",
    "                                       (self.hidden_nodes, self.input_nodes))\n",
    "\n",
    "        self.weights_hidden_to_output = np.random.normal(0.0, self.output_nodes**-0.5, \n",
    "                                       (self.output_nodes, self.hidden_nodes))\n",
    "        self.lr = learning_rate\n",
    "        \n",
    "        #A distrubuição aqui é sigmoide\n",
    "        self.activation_function = lambda x: (1 / (1 + np.exp(-x)))\n",
    "        self.activation_function_prime = lambda x: (x * ( 1 - x))\n",
    "        \n",
    "        self.output_activation_function = lambda x: (x)\n",
    "        self.output_activation_function_prime = lambda x: (1)\n",
    "        \n",
    "    def train(self, inputs_list, targets_list):\n",
    "        inputs = np.array(inputs_list, ndmin=2).T\n",
    "        targets = np.array(targets_list, ndmin=2).T\n",
    "        #convertendo em vetores 2D\n",
    "        \n",
    "        \n",
    "        hidden_inputs = np.dot(self.weights_input_to_hidden, inputs)\n",
    "        hidden_outputs = self.activation_function(hidden_inputs)\n",
    "        final_inputs = np.dot(self.weights_hidden_to_output, hidden_outputs)\n",
    "        final_outputs = self.output_activation_function(final_inputs)\n",
    "        \n",
    "\n",
    "        error = targets - final_outputs\n",
    "        \n",
    "        # Output error\n",
    "        output_errors = error * self.output_activation_function_prime(final_inputs)\n",
    "        #erro propagado\n",
    "        hidden_errors = np.dot(output_errors.T, self.weights_hidden_to_output).T\n",
    "        hidden_grad = self.activation_function_prime(hidden_outputs)\n",
    "        \n",
    " \n",
    "        self.weights_hidden_to_output += self.lr * np.dot(output_errors, hidden_outputs.T)\n",
    "        self.weights_input_to_hidden += self.lr * np.dot((hidden_errors * hidden_grad), inputs.T)\n",
    " \n",
    "        \n",
    "    def run(self, inputs_list):\n",
    "        inputs = np.array(inputs_list, ndmin=2).T\n",
    "        \n",
    "       \n",
    "        hidden_inputs = np.dot(self.weights_input_to_hidden, inputs)\n",
    "        hidden_outputs = self.activation_function(hidden_inputs)\n",
    "        \n",
    "        \n",
    "        final_inputs = np.dot(self.weights_hidden_to_output, hidden_outputs) \n",
    "        final_outputs = self.output_activation_function(final_inputs)\n",
    "        \n",
    "        return final_outputs"
   ]
  },
  {
   "cell_type": "code",
   "execution_count": 101,
   "metadata": {},
   "outputs": [],
   "source": [
    "def ErroQuadraticoMedio(y, Y):\n",
    "    return np.mean((y-Y)**2)"
   ]
  },
  {
   "cell_type": "code",
   "execution_count": 102,
   "metadata": {},
   "outputs": [
    {
     "name": "stderr",
     "output_type": "stream",
     "text": [
      "c:\\users\\ivan\\appdata\\local\\programs\\python\\python36-32\\lib\\site-packages\\ipykernel_launcher.py:15: DeprecationWarning: \n",
      ".ix is deprecated. Please use\n",
      ".loc for label based indexing or\n",
      ".iloc for positional indexing\n",
      "\n",
      "See the documentation here:\n",
      "http://pandas.pydata.org/pandas-docs/stable/indexing.html#ix-indexer-is-deprecated\n",
      "  from ipykernel import kernelapp as app\n"
     ]
    },
    {
     "ename": "KeyError",
     "evalue": "'[6853 9035 2253  405 5754 6613 8878 2360 1796 5772 6371 9772 6505 6043\\n 8592 8378 1405 1211 9081 5480 1181 5014 7272 8941 9992 2423  937  372\\n 2658  905 2940 8269 8018  211 8910 8545 4899 8923 6883 1776  598  127\\n 9957 5751 7358 3381 7191 7564  858  267 6994 5156 4867 4174 7619 7698\\n 3100 3374 1139 7792 6878 8179 5219 4698 5398 9337 7196 8449 8360 4739\\n 9916 6325 9957 3349 5117 2789 3695 7596 5496 2854 1060 1186  325 1907\\n 5713  663 2253 9238 4717 2487 7134 6906 1287 1992 5472 6875 9721 2684\\n 1137 4934 2873 8842  379 7640 4636 4322 9671 4591 9271 2587 1835 1270\\n 1004  720 6298 5394 1260 9396 9063  620 7184 7250 3010 4730  674 6857\\n  218 6665] not in index'",
     "output_type": "error",
     "traceback": [
      "\u001b[1;31m---------------------------------------------------------------------------\u001b[0m",
      "\u001b[1;31mKeyError\u001b[0m                                  Traceback (most recent call last)",
      "\u001b[1;32m<ipython-input-102-fbf848b0c953>\u001b[0m in \u001b[0;36m<module>\u001b[1;34m()\u001b[0m\n\u001b[0;32m     14\u001b[0m \u001b[1;33m\u001b[0m\u001b[0m\n\u001b[0;32m     15\u001b[0m     for record, target in zip(train_features.ix[batch].values,\n\u001b[1;32m---> 16\u001b[1;33m                               target[batch]['engagement']):network.train(record, target)\n\u001b[0m\u001b[0;32m     17\u001b[0m \u001b[1;33m\u001b[0m\u001b[0m\n\u001b[0;32m     18\u001b[0m     \u001b[0mtrain_loss\u001b[0m \u001b[1;33m=\u001b[0m \u001b[0mErroQuadraticoMedio\u001b[0m\u001b[1;33m(\u001b[0m\u001b[0mrede\u001b[0m\u001b[1;33m.\u001b[0m\u001b[0mrun\u001b[0m\u001b[1;33m(\u001b[0m\u001b[0mtrain\u001b[0m\u001b[1;33m)\u001b[0m\u001b[1;33m,\u001b[0m \u001b[0mtrain_target\u001b[0m\u001b[1;33m[\u001b[0m\u001b[1;34m'engagement'\u001b[0m\u001b[1;33m]\u001b[0m\u001b[1;33m.\u001b[0m\u001b[0mvalues\u001b[0m\u001b[1;33m)\u001b[0m\u001b[1;33m\u001b[0m\u001b[0m\n",
      "\u001b[1;32mc:\\users\\ivan\\appdata\\local\\programs\\python\\python36-32\\lib\\site-packages\\pandas\\core\\frame.py\u001b[0m in \u001b[0;36m__getitem__\u001b[1;34m(self, key)\u001b[0m\n\u001b[0;32m   2680\u001b[0m         \u001b[1;32mif\u001b[0m \u001b[0misinstance\u001b[0m\u001b[1;33m(\u001b[0m\u001b[0mkey\u001b[0m\u001b[1;33m,\u001b[0m \u001b[1;33m(\u001b[0m\u001b[0mSeries\u001b[0m\u001b[1;33m,\u001b[0m \u001b[0mnp\u001b[0m\u001b[1;33m.\u001b[0m\u001b[0mndarray\u001b[0m\u001b[1;33m,\u001b[0m \u001b[0mIndex\u001b[0m\u001b[1;33m,\u001b[0m \u001b[0mlist\u001b[0m\u001b[1;33m)\u001b[0m\u001b[1;33m)\u001b[0m\u001b[1;33m:\u001b[0m\u001b[1;33m\u001b[0m\u001b[0m\n\u001b[0;32m   2681\u001b[0m             \u001b[1;31m# either boolean or fancy integer index\u001b[0m\u001b[1;33m\u001b[0m\u001b[1;33m\u001b[0m\u001b[0m\n\u001b[1;32m-> 2682\u001b[1;33m             \u001b[1;32mreturn\u001b[0m \u001b[0mself\u001b[0m\u001b[1;33m.\u001b[0m\u001b[0m_getitem_array\u001b[0m\u001b[1;33m(\u001b[0m\u001b[0mkey\u001b[0m\u001b[1;33m)\u001b[0m\u001b[1;33m\u001b[0m\u001b[0m\n\u001b[0m\u001b[0;32m   2683\u001b[0m         \u001b[1;32melif\u001b[0m \u001b[0misinstance\u001b[0m\u001b[1;33m(\u001b[0m\u001b[0mkey\u001b[0m\u001b[1;33m,\u001b[0m \u001b[0mDataFrame\u001b[0m\u001b[1;33m)\u001b[0m\u001b[1;33m:\u001b[0m\u001b[1;33m\u001b[0m\u001b[0m\n\u001b[0;32m   2684\u001b[0m             \u001b[1;32mreturn\u001b[0m \u001b[0mself\u001b[0m\u001b[1;33m.\u001b[0m\u001b[0m_getitem_frame\u001b[0m\u001b[1;33m(\u001b[0m\u001b[0mkey\u001b[0m\u001b[1;33m)\u001b[0m\u001b[1;33m\u001b[0m\u001b[0m\n",
      "\u001b[1;32mc:\\users\\ivan\\appdata\\local\\programs\\python\\python36-32\\lib\\site-packages\\pandas\\core\\frame.py\u001b[0m in \u001b[0;36m_getitem_array\u001b[1;34m(self, key)\u001b[0m\n\u001b[0;32m   2724\u001b[0m             \u001b[1;32mreturn\u001b[0m \u001b[0mself\u001b[0m\u001b[1;33m.\u001b[0m\u001b[0m_take\u001b[0m\u001b[1;33m(\u001b[0m\u001b[0mindexer\u001b[0m\u001b[1;33m,\u001b[0m \u001b[0maxis\u001b[0m\u001b[1;33m=\u001b[0m\u001b[1;36m0\u001b[0m\u001b[1;33m)\u001b[0m\u001b[1;33m\u001b[0m\u001b[0m\n\u001b[0;32m   2725\u001b[0m         \u001b[1;32melse\u001b[0m\u001b[1;33m:\u001b[0m\u001b[1;33m\u001b[0m\u001b[0m\n\u001b[1;32m-> 2726\u001b[1;33m             \u001b[0mindexer\u001b[0m \u001b[1;33m=\u001b[0m \u001b[0mself\u001b[0m\u001b[1;33m.\u001b[0m\u001b[0mloc\u001b[0m\u001b[1;33m.\u001b[0m\u001b[0m_convert_to_indexer\u001b[0m\u001b[1;33m(\u001b[0m\u001b[0mkey\u001b[0m\u001b[1;33m,\u001b[0m \u001b[0maxis\u001b[0m\u001b[1;33m=\u001b[0m\u001b[1;36m1\u001b[0m\u001b[1;33m)\u001b[0m\u001b[1;33m\u001b[0m\u001b[0m\n\u001b[0m\u001b[0;32m   2727\u001b[0m             \u001b[1;32mreturn\u001b[0m \u001b[0mself\u001b[0m\u001b[1;33m.\u001b[0m\u001b[0m_take\u001b[0m\u001b[1;33m(\u001b[0m\u001b[0mindexer\u001b[0m\u001b[1;33m,\u001b[0m \u001b[0maxis\u001b[0m\u001b[1;33m=\u001b[0m\u001b[1;36m1\u001b[0m\u001b[1;33m)\u001b[0m\u001b[1;33m\u001b[0m\u001b[0m\n\u001b[0;32m   2728\u001b[0m \u001b[1;33m\u001b[0m\u001b[0m\n",
      "\u001b[1;32mc:\\users\\ivan\\appdata\\local\\programs\\python\\python36-32\\lib\\site-packages\\pandas\\core\\indexing.py\u001b[0m in \u001b[0;36m_convert_to_indexer\u001b[1;34m(self, obj, axis, is_setter)\u001b[0m\n\u001b[0;32m   1325\u001b[0m                 \u001b[1;32mif\u001b[0m \u001b[0mmask\u001b[0m\u001b[1;33m.\u001b[0m\u001b[0many\u001b[0m\u001b[1;33m(\u001b[0m\u001b[1;33m)\u001b[0m\u001b[1;33m:\u001b[0m\u001b[1;33m\u001b[0m\u001b[0m\n\u001b[0;32m   1326\u001b[0m                     raise KeyError('{mask} not in index'\n\u001b[1;32m-> 1327\u001b[1;33m                                    .format(mask=objarr[mask]))\n\u001b[0m\u001b[0;32m   1328\u001b[0m \u001b[1;33m\u001b[0m\u001b[0m\n\u001b[0;32m   1329\u001b[0m                 \u001b[1;32mreturn\u001b[0m \u001b[0mcom\u001b[0m\u001b[1;33m.\u001b[0m\u001b[0m_values_from_object\u001b[0m\u001b[1;33m(\u001b[0m\u001b[0mindexer\u001b[0m\u001b[1;33m)\u001b[0m\u001b[1;33m\u001b[0m\u001b[0m\n",
      "\u001b[1;31mKeyError\u001b[0m: '[6853 9035 2253  405 5754 6613 8878 2360 1796 5772 6371 9772 6505 6043\\n 8592 8378 1405 1211 9081 5480 1181 5014 7272 8941 9992 2423  937  372\\n 2658  905 2940 8269 8018  211 8910 8545 4899 8923 6883 1776  598  127\\n 9957 5751 7358 3381 7191 7564  858  267 6994 5156 4867 4174 7619 7698\\n 3100 3374 1139 7792 6878 8179 5219 4698 5398 9337 7196 8449 8360 4739\\n 9916 6325 9957 3349 5117 2789 3695 7596 5496 2854 1060 1186  325 1907\\n 5713  663 2253 9238 4717 2487 7134 6906 1287 1992 5472 6875 9721 2684\\n 1137 4934 2873 8842  379 7640 4636 4322 9671 4591 9271 2587 1835 1270\\n 1004  720 6298 5394 1260 9396 9063  620 7184 7250 3010 4730  674 6857\\n  218 6665] not in index'"
     ]
    }
   ],
   "source": [
    "import sys\n",
    "\n",
    "epocas = 100\n",
    "learning_rate = 0.05\n",
    "hidden_nodes = 20\n",
    "output_nodes = 1\n",
    "\n",
    "N_i = train.shape[1]\n",
    "rede = RedeNeural(N_i, hidden_nodes, output_nodes, learning_rate)\n",
    "\n",
    "losses = {'train':[], 'validation':[]}\n",
    "for e in range(epocas):\n",
    "    batch = np.random.choice(train.index, size=128)\n",
    "    \n",
    "    for record, target in zip(train_features.ix[batch].values,\n",
    "                              target[batch]['engagement']):network.train(record, target)\n",
    "    \n",
    "    train_loss = ErroQuadraticoMedio(rede.run(train), train_target['engagement'].values)\n",
    "    val_loss = ErroQuadraticoMedio(rede.run(val_features), val_targets['engagement'].values)\n",
    "    sys.stdout.write(\"\\rProgress: \" + str(100 * e/float(epochs))[:4] \\\n",
    "                     + \"% ... Training loss: \" + str(train_loss)[:5] \\\n",
    "                     + \" ... Validation loss: \" + str(val_loss)[:5])\n",
    "    \n",
    "    losses['train'].append(train_loss)\n",
    "    losses['validation'].append(val_loss)"
   ]
  },
  {
   "cell_type": "code",
   "execution_count": 103,
   "metadata": {},
   "outputs": [
    {
     "name": "stderr",
     "output_type": "stream",
     "text": [
      "c:\\users\\ivan\\appdata\\local\\programs\\python\\python36-32\\lib\\site-packages\\ipykernel_launcher.py:1: FutureWarning: Method .as_matrix will be removed in a future version. Use .values instead.\n",
      "  \"\"\"Entry point for launching an IPython kernel.\n",
      "c:\\users\\ivan\\appdata\\local\\programs\\python\\python36-32\\lib\\site-packages\\ipykernel_launcher.py:2: FutureWarning: Method .as_matrix will be removed in a future version. Use .values instead.\n",
      "  \n"
     ]
    },
    {
     "data": {
      "text/plain": [
       "Index(['engagement', 'anger', 'contempt', 'disgust', 'fear', 'happiness',\n",
       "       'neutral', 'sadness', 'surprise'],\n",
       "      dtype='object')"
      ]
     },
     "execution_count": 103,
     "metadata": {},
     "output_type": "execute_result"
    }
   ],
   "source": [
    "y = data.as_matrix(columns=data.columns[0:1])\n",
    "x = data.as_matrix(columns=data.columns[1:])\n",
    "data.columns[0:]"
   ]
  },
  {
   "cell_type": "code",
   "execution_count": null,
   "metadata": {},
   "outputs": [],
   "source": []
  },
  {
   "cell_type": "code",
   "execution_count": null,
   "metadata": {},
   "outputs": [],
   "source": []
  },
  {
   "cell_type": "code",
   "execution_count": null,
   "metadata": {},
   "outputs": [],
   "source": []
  }
 ],
 "metadata": {
  "kernelspec": {
   "display_name": "Python 3",
   "language": "python",
   "name": "python3"
  },
  "language_info": {
   "codemirror_mode": {
    "name": "ipython",
    "version": 3
   },
   "file_extension": ".py",
   "mimetype": "text/x-python",
   "name": "python",
   "nbconvert_exporter": "python",
   "pygments_lexer": "ipython3",
   "version": "3.6.5"
  }
 },
 "nbformat": 4,
 "nbformat_minor": 2
}
